{
 "cells": [
  {
   "cell_type": "markdown",
   "metadata": {},
   "source": [
    "# Principal Component Analysis\n",
    "PCA is implemented to a dataset, represented by n X m matrix A that results in a projection of A which we call B.\n",
    "$$A = \\begin{pmatrix} a_{11} & a_{12}\\\\\n",
    "a_{21} & a_{22}\\\\\n",
    "a_{31} & a_{32} \n",
    "\\end{pmatrix}$$\n",
    "B = PCA(A)\n",
    "\n",
    "Steps for PCA:-\n",
    "1. calculate mean of each column in A. M = mean(A).\n",
    "2. Center each column, C = A - M.\n",
    "3. Compute covariance matrix of C called as V.\n",
    "4. Eigen decomposition of covariance matrix V.\n",
    "5. The eigenvectors represent the directions or components for the reduced subspace of B.\n",
    "\n",
    "* If all eigenvalues have a similar value, then the existing representation is compressed enough.\n",
    "* If there are eigenvalues close to 0, they represent components or axes of B that may be discarded.\n",
    "* Ideally we select K eigenvectors called principal components that have largest eigenvalues.\n",
    "$$B = select(values, vectors)$$\n",
    "Instead of eigendecomposition, we can use SVD as well. Once choosen, data can be represented as $$P = B^T A.$$\n",
    "B = choosen principal components.\n",
    "P = Projection of A."
   ]
  },
  {
   "cell_type": "code",
   "execution_count": 16,
   "metadata": {},
   "outputs": [],
   "source": [
    "import numpy as np\n",
    "import numpy.linalg as lin\n",
    "from sklearn.decomposition import PCA"
   ]
  },
  {
   "cell_type": "code",
   "execution_count": 12,
   "metadata": {},
   "outputs": [
    {
     "name": "stdout",
     "output_type": "stream",
     "text": [
      "[8. 0.]\n",
      "[[ 0.70710678 -0.70710678]\n",
      " [ 0.70710678  0.70710678]]\n"
     ]
    }
   ],
   "source": [
    "A = np.array([[1,2],\n",
    "             [3,4],\n",
    "             [5,6]])\n",
    "M = np.mean(A.T, axis = 1)\n",
    "C = A - M\n",
    "V = np.cov(A.T)\n",
    "\n",
    "# Eigendecomposition\n",
    "values, vectors = lin.eig(V)\n",
    "print(values)\n",
    "print(vectors)"
   ]
  },
  {
   "cell_type": "code",
   "execution_count": 15,
   "metadata": {},
   "outputs": [
    {
     "name": "stdout",
     "output_type": "stream",
     "text": [
      "[[-2.82842712  0.        ]\n",
      " [ 0.          0.        ]\n",
      " [ 2.82842712  0.        ]]\n"
     ]
    }
   ],
   "source": [
    "#Projection of the data\n",
    "P = vectors.T.dot(C.T)\n",
    "print(P.T)"
   ]
  },
  {
   "cell_type": "code",
   "execution_count": 18,
   "metadata": {},
   "outputs": [
    {
     "name": "stdout",
     "output_type": "stream",
     "text": [
      "[[ 0.70710678  0.70710678]\n",
      " [ 0.70710678 -0.70710678]]\n",
      "[8.00000000e+00 2.25080839e-33]\n"
     ]
    }
   ],
   "source": [
    "#PCA using sklearn\n",
    "pca = PCA(n_components = 2).fit(A)\n",
    "print(pca.components_)\n",
    "print(pca.explained_variance_)"
   ]
  },
  {
   "cell_type": "code",
   "execution_count": 19,
   "metadata": {},
   "outputs": [
    {
     "name": "stdout",
     "output_type": "stream",
     "text": [
      "[[-2.82842712e+00  2.22044605e-16]\n",
      " [ 0.00000000e+00  0.00000000e+00]\n",
      " [ 2.82842712e+00 -2.22044605e-16]]\n"
     ]
    }
   ],
   "source": [
    "# Projection\n",
    "print(pca.transform(A))"
   ]
  }
 ],
 "metadata": {
  "kernelspec": {
   "display_name": "Python 3",
   "language": "python",
   "name": "python3"
  },
  "language_info": {
   "codemirror_mode": {
    "name": "ipython",
    "version": 3
   },
   "file_extension": ".py",
   "mimetype": "text/x-python",
   "name": "python",
   "nbconvert_exporter": "python",
   "pygments_lexer": "ipython3",
   "version": "3.6.8"
  }
 },
 "nbformat": 4,
 "nbformat_minor": 4
}
