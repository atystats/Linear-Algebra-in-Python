{
 "cells": [
  {
   "cell_type": "markdown",
   "metadata": {},
   "source": [
    "# Tensors\n",
    "A tensor is a genralization of vectors or matrices and can be seen as a multidimensional array. A tensor can have a variable no. of axis.\n",
    "\n",
    "* A vector is a one-dimensional tensor or first order tensor.\n",
    "* A matrix is a two-dimensional tensor or second order tensor.\n",
    "\n",
    "A 3 X 3 X 3 tensor can be written as \n",
    "$$T = \\begin{pmatrix}t_{1,1,1} & t_{1,2,1} & t_{1,3,1} \\\\\n",
    "t_{2,1,1} & t_{2,2,1} & t_{2,3,1} \\\\\n",
    "t_{3,1,1} & t_{3,2,1} & t_{3,3,1} \n",
    "\\end{pmatrix} , \\begin{pmatrix}t_{1,1,2} & t_{1,2,2} & t_{1,3,2} \\\\\n",
    "t_{2,1,2} & t_{2,2,2} & t_{2,3,2} \\\\\n",
    "t_{3,1,2} & t_{3,2,2} & t_{3,3,2} \n",
    "\\end{pmatrix} , \\begin{pmatrix}t_{1,1,3} & t_{1,2,3} & t_{1,3,3} \\\\\n",
    "t_{2,1,3} & t_{2,2,3} & t_{2,3,3} \\\\\n",
    "t_{3,1,3} & t_{3,2,3} & t_{3,3,3} \n",
    "\\end{pmatrix}$$"
   ]
  },
  {
   "cell_type": "code",
   "execution_count": 1,
   "metadata": {},
   "outputs": [],
   "source": [
    "import numpy as np"
   ]
  },
  {
   "cell_type": "code",
   "execution_count": 6,
   "metadata": {},
   "outputs": [
    {
     "name": "stdout",
     "output_type": "stream",
     "text": [
      "[[[ 1  2  3]\n",
      "  [ 4  5  6]\n",
      "  [ 7  8  9]]\n",
      "\n",
      " [[10 11 12]\n",
      "  [13 14 15]\n",
      "  [16 17 18]]\n",
      "\n",
      " [[19 20 21]\n",
      "  [22 23 24]\n",
      "  [25 26 27]]]\n"
     ]
    }
   ],
   "source": [
    "# Define a 3 X 3 X 3 tensor\n",
    "T = np.array([\n",
    "    [[1,2,3],[4,5,6],[7,8,9]],\n",
    "    [[10,11,12],[13,14,15],[16,17,18]],\n",
    "    [[19,20,21],[22,23,24],[25,26,27]]\n",
    "])\n",
    "print(T)"
   ]
  },
  {
   "cell_type": "code",
   "execution_count": 7,
   "metadata": {},
   "outputs": [
    {
     "data": {
      "text/plain": [
       "(3, 3, 3)"
      ]
     },
     "execution_count": 7,
     "metadata": {},
     "output_type": "execute_result"
    }
   ],
   "source": [
    "T.shape"
   ]
  },
  {
   "cell_type": "code",
   "execution_count": 9,
   "metadata": {},
   "outputs": [
    {
     "name": "stdout",
     "output_type": "stream",
     "text": [
      "[[[ 2  4  6]\n",
      "  [ 8 10 12]\n",
      "  [14 16 18]]\n",
      "\n",
      " [[20 22 24]\n",
      "  [26 28 30]\n",
      "  [32 34 36]]\n",
      "\n",
      " [[38 40 42]\n",
      "  [44 46 48]\n",
      "  [50 52 54]]]\n"
     ]
    }
   ],
   "source": [
    "# Element wise Addition in tensors\n",
    "A = np.array([\n",
    "    [[1,2,3],[4,5,6],[7,8,9]],\n",
    "    [[10,11,12],[13,14,15],[16,17,18]],\n",
    "    [[19,20,21],[22,23,24],[25,26,27]]\n",
    "])\n",
    "\n",
    "B = np.array([\n",
    "    [[1,2,3],[4,5,6],[7,8,9]],\n",
    "    [[10,11,12],[13,14,15],[16,17,18]],\n",
    "    [[19,20,21],[22,23,24],[25,26,27]]\n",
    "])\n",
    "\n",
    "print(A + B)"
   ]
  },
  {
   "cell_type": "code",
   "execution_count": 10,
   "metadata": {},
   "outputs": [
    {
     "name": "stdout",
     "output_type": "stream",
     "text": [
      "[[[0 0 0]\n",
      "  [0 0 0]\n",
      "  [0 0 0]]\n",
      "\n",
      " [[0 0 0]\n",
      "  [0 0 0]\n",
      "  [0 0 0]]\n",
      "\n",
      " [[0 0 0]\n",
      "  [0 0 0]\n",
      "  [0 0 0]]]\n"
     ]
    }
   ],
   "source": [
    "# Element wise Subtraction in tensors\n",
    "print(A - B)"
   ]
  },
  {
   "cell_type": "code",
   "execution_count": 11,
   "metadata": {},
   "outputs": [
    {
     "name": "stdout",
     "output_type": "stream",
     "text": [
      "[[[  1   4   9]\n",
      "  [ 16  25  36]\n",
      "  [ 49  64  81]]\n",
      "\n",
      " [[100 121 144]\n",
      "  [169 196 225]\n",
      "  [256 289 324]]\n",
      "\n",
      " [[361 400 441]\n",
      "  [484 529 576]\n",
      "  [625 676 729]]]\n"
     ]
    }
   ],
   "source": [
    "# Element wise Multiplication in tensors (Tensor Hadamard Product)\n",
    "print(A * B)"
   ]
  },
  {
   "cell_type": "code",
   "execution_count": 12,
   "metadata": {},
   "outputs": [
    {
     "name": "stdout",
     "output_type": "stream",
     "text": [
      "[[[1. 1. 1.]\n",
      "  [1. 1. 1.]\n",
      "  [1. 1. 1.]]\n",
      "\n",
      " [[1. 1. 1.]\n",
      "  [1. 1. 1.]\n",
      "  [1. 1. 1.]]\n",
      "\n",
      " [[1. 1. 1.]\n",
      "  [1. 1. 1.]\n",
      "  [1. 1. 1.]]]\n"
     ]
    }
   ],
   "source": [
    "# Element wise Division in tensors\n",
    "print(A / B)"
   ]
  },
  {
   "cell_type": "markdown",
   "metadata": {},
   "source": [
    "## Tensor Product \n",
    "A tensor product can be done not just on tensors but also on vectors and matrices.\n",
    "\n",
    "A tensor product for vector \n",
    "$$A = \\begin{pmatrix}a_1 \\\\\n",
    "a_2 \\end{pmatrix}$$\n",
    "$$B = \\begin{pmatrix}b_1 \\\\\n",
    "b_2 \\end{pmatrix}$$\n",
    "\n",
    "A tensor product C would be \n",
    "$$C = \\begin{pmatrix}a_1 X \\begin{pmatrix}b_1 \\\\\n",
    "b_2 \\end{pmatrix}\\\\\n",
    "a_2 X \\begin{pmatrix}b_1 \\\\\n",
    "b_2 \\end{pmatrix}\\\\\n",
    "\\end{pmatrix}$$\n",
    "$$C = \\begin{pmatrix}a_1 X b_1 & a_1 X b_2 \\\\\n",
    "a_2 X b_1 & a_2 X b_2\n",
    "\\end{pmatrix}$$\n",
    "\n",
    "\n",
    "Similary for matrix, a tensor product would be \n",
    "$$A = \\begin{pmatrix}a_{1,1} & a_{1,2} \\\\\n",
    "a_{2,1} & a_{2,2} \\end{pmatrix}$$\n",
    "$$B = \\begin{pmatrix}b_{1,1} & b_{1,2} \\\\\n",
    "b_{2,1} & b_{2,2} \\end{pmatrix}$$\n",
    "\n",
    "$$C = \\begin{pmatrix}a_{1,1} X \\begin{pmatrix}b_{1,1} & b_{1,2} \\\\\n",
    "b_{2,1} & b_{2,2} \\end{pmatrix} & \n",
    "a_{1,2} X \\begin{pmatrix}b_{1,1} & b_{1,2} \\\\\n",
    "b_{2,1} & b_{2,2} \\end{pmatrix} \\\\\n",
    "a_{2,1} X \\begin{pmatrix}b_{1,1} & b_{1,2} \\\\\n",
    "b_{2,1} & b_{2,2} \\end{pmatrix} & \n",
    "a_{2,2} X \\begin{pmatrix}b_{1,1} & b_{1,2} \\\\\n",
    "b_{2,1} & b_{2,2} \\end{pmatrix}\n",
    "\\end{pmatrix}\n",
    "$$\n",
    "\n",
    "$$C = \\begin{pmatrix}a_{1,1} X b_{1,1} & a_{1,1} X b_{1,2} & a_{1,2} X b_{1,1} & a_{1,2} X b_{1,2} \\\\\n",
    "a_{1,1} X b_{2,1} & a_{1,1} X b_{2,2} & a_{1,2} X b_{2,1} & a_{1,2} X b_{2,2} \\\\\n",
    "a_{2,1} X b_{1,1} & a_{2,1} X b_{1,2} & a_{2,2} X b_{1,1} & a_{2,2} X b_{1,2} \\\\\n",
    "a_{2,1} X b_{2,1} & a_{2,1} X b_{2,2} & a_{2,2} X b_{2,1} & a_{2,2} X b_{2,2}\n",
    "\\end{pmatrix}\n",
    "$$"
   ]
  },
  {
   "cell_type": "code",
   "execution_count": 14,
   "metadata": {},
   "outputs": [
    {
     "name": "stdout",
     "output_type": "stream",
     "text": [
      "[[3 4]\n",
      " [6 8]]\n"
     ]
    }
   ],
   "source": [
    "A = np.array([1,2])\n",
    "B = np.array([3,4])\n",
    "print(np.tensordot(A, B, axes = 0))"
   ]
  },
  {
   "cell_type": "code",
   "execution_count": 16,
   "metadata": {},
   "outputs": [
    {
     "name": "stdout",
     "output_type": "stream",
     "text": [
      "[[[[ 1  2]\n",
      "   [ 3  4]]\n",
      "\n",
      "  [[ 2  4]\n",
      "   [ 6  8]]]\n",
      "\n",
      "\n",
      " [[[ 3  6]\n",
      "   [ 9 12]]\n",
      "\n",
      "  [[ 4  8]\n",
      "   [12 16]]]]\n"
     ]
    }
   ],
   "source": [
    "A = np.array([[1,2],\n",
    "              [3,4]])\n",
    "B = np.array([[1,2],\n",
    "              [3,4]])\n",
    "\n",
    "C = np.tensordot(A, B, axes = 0)\n",
    "print(C)"
   ]
  },
  {
   "cell_type": "code",
   "execution_count": 17,
   "metadata": {},
   "outputs": [
    {
     "data": {
      "text/plain": [
       "(2, 2, 2, 2)"
      ]
     },
     "execution_count": 17,
     "metadata": {},
     "output_type": "execute_result"
    }
   ],
   "source": [
    "C.shape"
   ]
  },
  {
   "cell_type": "code",
   "execution_count": null,
   "metadata": {},
   "outputs": [],
   "source": []
  }
 ],
 "metadata": {
  "kernelspec": {
   "display_name": "Python 3",
   "language": "python",
   "name": "python3"
  },
  "language_info": {
   "codemirror_mode": {
    "name": "ipython",
    "version": 3
   },
   "file_extension": ".py",
   "mimetype": "text/x-python",
   "name": "python",
   "nbconvert_exporter": "python",
   "pygments_lexer": "ipython3",
   "version": "3.6.8"
  }
 },
 "nbformat": 4,
 "nbformat_minor": 4
}
